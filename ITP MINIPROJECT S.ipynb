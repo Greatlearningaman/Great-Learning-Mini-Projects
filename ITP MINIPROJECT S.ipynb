{
 "cells": [
  {
   "cell_type": "markdown",
   "id": "810c73a8",
   "metadata": {},
   "source": [
    "# ITP Mini-Project"
   ]
  },
  {
   "cell_type": "markdown",
   "id": "0729cddb",
   "metadata": {},
   "source": [
    "**Q1. Create a Dictionary of lists to store the information of shipments given in the table**"
   ]
  },
  {
   "cell_type": "code",
   "execution_count": 1,
   "id": "4ffe4be6",
   "metadata": {},
   "outputs": [],
   "source": [
    "shipment = {\n",
    "    1 : {\"Shipmentid\":101 ,\"Sender\":1, \"Receiver\":3, \"Start Date\":\"14/03/2020\", \"Delivery Date\":\"25/03/2020\" , \"Sender Location\":\"Area 1\" , \"Receiver Location\":\"Area 6\", \"Delivery Status\":\"Delivered\", \"Shipping Cost\":198},\n",
    "    2 : {\"Shipmentid\":102, \"Sender\":4, \"Receiver\":1, \"Start Date\":\"18/06/2020\", \"Delivery Date\":\"09/07/2020\" , \"Sender Location\":\"Area 2\" , \"Receiver Location\":\"Area 4\", \"Delivery Status\":\"Delivered\", \"Shipping Cost\":275},\n",
    "    3 : {\"Shipmentid\":103 ,\"Sender\":2, \"Receiver\":3, \"Start Date\":\"01/12/2020\", \"Delivery Date\":\"Null\" , \"Sender Location\":\"Area 5\" , \"Receiver Location\":\"Area 1\", \"Delivery Status\":\"In-Transit\", \"Shipping Cost\":200},\n",
    "    4 : {\"Shipmentid\":104, \"Sender\":1, \"Receiver\":5, \"Start Date\":\"23/06/2020\", \"Delivery Date\":\"25/06/2020\" , \"Sender Location\":\"Area 1\" , \"Receiver Location\":\"Area 4\", \"Delivery Status\":\"Delivered\", \"Shipping Cost\":314},\n",
    "    5 : {\"Shipmentid\":105, \"Sender\":3, \"Receiver\":4, \"Start Date\":\"29/08/2020\", \"Delivery Date\":\"10/09/2020\" , \"Sender Location\":\"Area 5\" , \"Receiver Location\":\"Area 3\", \"Delivery Status\":\"Delivered\", \"Shipping Cost\":275},\n",
    "    6 : {\"Shipmentid\":106, \"Sender\":5, \"Receiver\":2, \"Start Date\":\"28/06/2020\", \"Delivery Date\":\"Null\" , \"Sender Location\":\"Area 3\" , \"Receiver Location\":\"Area 1\", \"Delivery Status\":\"In-Transit\", \"Shipping Cost\":270}\n",
    "}"
   ]
  },
  {
   "cell_type": "code",
   "execution_count": 2,
   "id": "76751095",
   "metadata": {},
   "outputs": [
    {
     "name": "stdout",
     "output_type": "stream",
     "text": [
      "{1: {'Shipmentid': 101, 'Sender': 1, 'Receiver': 3, 'Start Date': '14/03/2020', 'Delivery Date': '25/03/2020', 'Sender Location': 'Area 1', 'Receiver Location': 'Area 6', 'Delivery Status': 'Delivered', 'Shipping Cost': 198}, 2: {'Shipmentid': 102, 'Sender': 4, 'Receiver': 1, 'Start Date': '18/06/2020', 'Delivery Date': '09/07/2020', 'Sender Location': 'Area 2', 'Receiver Location': 'Area 4', 'Delivery Status': 'Delivered', 'Shipping Cost': 275}, 3: {'Shipmentid': 103, 'Sender': 2, 'Receiver': 3, 'Start Date': '01/12/2020', 'Delivery Date': 'Null', 'Sender Location': 'Area 5', 'Receiver Location': 'Area 1', 'Delivery Status': 'In-Transit', 'Shipping Cost': 200}, 4: {'Shipmentid': 104, 'Sender': 1, 'Receiver': 5, 'Start Date': '23/06/2020', 'Delivery Date': '25/06/2020', 'Sender Location': 'Area 1', 'Receiver Location': 'Area 4', 'Delivery Status': 'Delivered', 'Shipping Cost': 314}, 5: {'Shipmentid': 105, 'Sender': 3, 'Receiver': 4, 'Start Date': '29/08/2020', 'Delivery Date': '10/09/2020', 'Sender Location': 'Area 5', 'Receiver Location': 'Area 3', 'Delivery Status': 'Delivered', 'Shipping Cost': 275}, 6: {'Shipmentid': 106, 'Sender': 5, 'Receiver': 2, 'Start Date': '28/06/2020', 'Delivery Date': 'Null', 'Sender Location': 'Area 3', 'Receiver Location': 'Area 1', 'Delivery Status': 'In-Transit', 'Shipping Cost': 270}}\n"
     ]
    }
   ],
   "source": [
    "print(shipment)"
   ]
  },
  {
   "cell_type": "markdown",
   "id": "63dd4fba",
   "metadata": {},
   "source": [
    "**Q2. Create a Dictionary of to store the information of clients given in the table.**"
   ]
  },
  {
   "cell_type": "code",
   "execution_count": 3,
   "id": "6965f997",
   "metadata": {},
   "outputs": [],
   "source": [
    "clients = {1:\"Philip\" , 2:\"Omega III\" , 3:\"Ramya\" , 4:\"Romesh\" , 5:\"John\"}"
   ]
  },
  {
   "cell_type": "code",
   "execution_count": 4,
   "id": "9a47fb74",
   "metadata": {},
   "outputs": [
    {
     "name": "stdout",
     "output_type": "stream",
     "text": [
      "{1: 'Philip', 2: 'Omega III', 3: 'Ramya', 4: 'Romesh', 5: 'John'}\n"
     ]
    }
   ],
   "source": [
    "print(clients)"
   ]
  },
  {
   "cell_type": "markdown",
   "id": "d422e70e",
   "metadata": {},
   "source": [
    "**Q3. Write a code to replace client’s id with their respective name in shipment dictionary using a loop and dictionary comprehension**"
   ]
  },
  {
   "cell_type": "code",
   "execution_count": 5,
   "id": "c9dc01ea",
   "metadata": {},
   "outputs": [
    {
     "name": "stdout",
     "output_type": "stream",
     "text": [
      "{1: {'Shipmentid': 101, 'Sender': 'Philip', 'Receiver': 'Ramya', 'Start Date': '14/03/2020', 'Delivery Date': '25/03/2020', 'Sender Location': 'Area 1', 'Receiver Location': 'Area 6', 'Delivery Status': 'Delivered', 'Shipping Cost': 198}, 2: {'Shipmentid': 102, 'Sender': 'Romesh', 'Receiver': 'Philip', 'Start Date': '18/06/2020', 'Delivery Date': '09/07/2020', 'Sender Location': 'Area 2', 'Receiver Location': 'Area 4', 'Delivery Status': 'Delivered', 'Shipping Cost': 275}, 3: {'Shipmentid': 103, 'Sender': 'Omega III', 'Receiver': 'Ramya', 'Start Date': '01/12/2020', 'Delivery Date': 'Null', 'Sender Location': 'Area 5', 'Receiver Location': 'Area 1', 'Delivery Status': 'In-Transit', 'Shipping Cost': 200}, 4: {'Shipmentid': 104, 'Sender': 'Philip', 'Receiver': 'John', 'Start Date': '23/06/2020', 'Delivery Date': '25/06/2020', 'Sender Location': 'Area 1', 'Receiver Location': 'Area 4', 'Delivery Status': 'Delivered', 'Shipping Cost': 314}, 5: {'Shipmentid': 105, 'Sender': 'Ramya', 'Receiver': 'Romesh', 'Start Date': '29/08/2020', 'Delivery Date': '10/09/2020', 'Sender Location': 'Area 5', 'Receiver Location': 'Area 3', 'Delivery Status': 'Delivered', 'Shipping Cost': 275}, 6: {'Shipmentid': 106, 'Sender': 'John', 'Receiver': 'Omega III', 'Start Date': '28/06/2020', 'Delivery Date': 'Null', 'Sender Location': 'Area 3', 'Receiver Location': 'Area 1', 'Delivery Status': 'In-Transit', 'Shipping Cost': 270}}\n"
     ]
    }
   ],
   "source": [
    "for i in range(1,list(shipment.keys())[-1]+1):\n",
    "    shipment[i][\"Sender\"] = clients[shipment[i][\"Sender\"]]\n",
    "    shipment[i][\"Receiver\"] = clients[shipment[i][\"Receiver\"]]\n",
    "    \n",
    "print(shipment)"
   ]
  },
  {
   "cell_type": "markdown",
   "id": "f2a44b2b",
   "metadata": {},
   "source": [
    "**Q4. Print all shipment details that are sent by Phillip**"
   ]
  },
  {
   "cell_type": "code",
   "execution_count": 6,
   "id": "5f97aef7",
   "metadata": {},
   "outputs": [
    {
     "name": "stdout",
     "output_type": "stream",
     "text": [
      "{'Shipmentid': 101, 'Sender': 'Philip', 'Receiver': 'Ramya', 'Start Date': '14/03/2020', 'Delivery Date': '25/03/2020', 'Sender Location': 'Area 1', 'Receiver Location': 'Area 6', 'Delivery Status': 'Delivered', 'Shipping Cost': 198}\n",
      "{'Shipmentid': 104, 'Sender': 'Philip', 'Receiver': 'John', 'Start Date': '23/06/2020', 'Delivery Date': '25/06/2020', 'Sender Location': 'Area 1', 'Receiver Location': 'Area 4', 'Delivery Status': 'Delivered', 'Shipping Cost': 314}\n"
     ]
    }
   ],
   "source": [
    "i = 1\n",
    "while i < len(shipment)+1:\n",
    "    if shipment[i][\"Sender\"] == \"Philip\":\n",
    "        print(shipment[i])\n",
    "    i += 1"
   ]
  },
  {
   "cell_type": "markdown",
   "id": "2cc12843",
   "metadata": {},
   "source": [
    "**Q5. Print all shipment details that are received by Ramya**"
   ]
  },
  {
   "cell_type": "code",
   "execution_count": 7,
   "id": "49e546ee",
   "metadata": {},
   "outputs": [
    {
     "name": "stdout",
     "output_type": "stream",
     "text": [
      "{'Shipmentid': 101, 'Sender': 'Philip', 'Receiver': 'Ramya', 'Start Date': '14/03/2020', 'Delivery Date': '25/03/2020', 'Sender Location': 'Area 1', 'Receiver Location': 'Area 6', 'Delivery Status': 'Delivered', 'Shipping Cost': 198}\n",
      "{'Shipmentid': 103, 'Sender': 'Omega III', 'Receiver': 'Ramya', 'Start Date': '01/12/2020', 'Delivery Date': 'Null', 'Sender Location': 'Area 5', 'Receiver Location': 'Area 1', 'Delivery Status': 'In-Transit', 'Shipping Cost': 200}\n"
     ]
    }
   ],
   "source": [
    "i = 1\n",
    "while i < len(shipment)+1:\n",
    "    if shipment[i][\"Receiver\"] == \"Ramya\":\n",
    "        print(shipment[i])\n",
    "    i += 1"
   ]
  },
  {
   "cell_type": "code",
   "execution_count": null,
   "id": "a9579df5",
   "metadata": {},
   "outputs": [],
   "source": []
  },
  {
   "cell_type": "markdown",
   "id": "c7a91d03",
   "metadata": {},
   "source": [
    "**Q6. Print all shipments which are in 'In-Transit' status**"
   ]
  },
  {
   "cell_type": "code",
   "execution_count": 8,
   "id": "58b560ab",
   "metadata": {},
   "outputs": [
    {
     "name": "stdout",
     "output_type": "stream",
     "text": [
      "Shipmentid:  3 {'Shipmentid': 103, 'Sender': 'Omega III', 'Receiver': 'Ramya', 'Start Date': '01/12/2020', 'Delivery Date': 'Null', 'Sender Location': 'Area 5', 'Receiver Location': 'Area 1', 'Delivery Status': 'In-Transit', 'Shipping Cost': 200}\n",
      "Shipmentid:  6 {'Shipmentid': 106, 'Sender': 'John', 'Receiver': 'Omega III', 'Start Date': '28/06/2020', 'Delivery Date': 'Null', 'Sender Location': 'Area 3', 'Receiver Location': 'Area 1', 'Delivery Status': 'In-Transit', 'Shipping Cost': 270}\n"
     ]
    }
   ],
   "source": [
    "i = 1\n",
    "while i < len(shipment)+1:\n",
    "    if shipment[i][\"Delivery Status\"] == \"In-Transit\":\n",
    "        print(\"Shipmentid: \",i, shipment[i])\n",
    "    i += 1"
   ]
  },
  {
   "cell_type": "code",
   "execution_count": null,
   "id": "33ad82cf",
   "metadata": {},
   "outputs": [],
   "source": []
  },
  {
   "cell_type": "markdown",
   "id": "7fa16280",
   "metadata": {},
   "source": [
    "**Q7. Print all shipments which are delivered within 7 days of courier Start date**"
   ]
  },
  {
   "cell_type": "code",
   "execution_count": 9,
   "id": "12ade9fa",
   "metadata": {},
   "outputs": [],
   "source": [
    "import pandas as pd"
   ]
  },
  {
   "cell_type": "code",
   "execution_count": 17,
   "id": "b9eb4743",
   "metadata": {},
   "outputs": [
    {
     "name": "stdout",
     "output_type": "stream",
     "text": [
      "{'Shipmentid': 104, 'Sender': 'Philip', 'Receiver': 'John', 'Start Date': '23/06/2020', 'Delivery Date': '25/06/2020', 'Sender Location': 'Area 1', 'Receiver Location': 'Area 4', 'Delivery Status': 'Delivered', 'Shipping Cost': 314}\n"
     ]
    }
   ],
   "source": [
    "for i in shipment:\n",
    "    if shipment[i][\"Delivery Date\"] != \"Null\":\n",
    "        a = pd.to_datetime(shipment[i][\"Delivery Date\"], format='%d/%m/%Y')\n",
    "        b = pd.to_datetime(shipment[i][\"Start Date\"], format='%d/%m/%Y')\n",
    "        if (a - b).days <= 7:\n",
    "            print(shipment[i])"
   ]
  },
  {
   "cell_type": "code",
   "execution_count": null,
   "id": "ecff3f97",
   "metadata": {},
   "outputs": [],
   "source": []
  },
  {
   "cell_type": "markdown",
   "id": "2879a8bf",
   "metadata": {},
   "source": [
    "**Q8. Print all shipments which are delivered after 15 days of courier start date or not yet been delivered.**"
   ]
  },
  {
   "cell_type": "code",
   "execution_count": 11,
   "id": "1fff4ed5",
   "metadata": {},
   "outputs": [
    {
     "name": "stdout",
     "output_type": "stream",
     "text": [
      "{'Shipmentid': 102, 'Sender': 'Romesh', 'Receiver': 'Philip', 'Start Date': '18/06/2020', 'Delivery Date': '09/07/2020', 'Sender Location': 'Area 2', 'Receiver Location': 'Area 4', 'Delivery Status': 'Delivered', 'Shipping Cost': 275}\n",
      "{'Shipmentid': 103, 'Sender': 'Omega III', 'Receiver': 'Ramya', 'Start Date': '01/12/2020', 'Delivery Date': 'Null', 'Sender Location': 'Area 5', 'Receiver Location': 'Area 1', 'Delivery Status': 'In-Transit', 'Shipping Cost': 200}\n",
      "{'Shipmentid': 106, 'Sender': 'John', 'Receiver': 'Omega III', 'Start Date': '28/06/2020', 'Delivery Date': 'Null', 'Sender Location': 'Area 3', 'Receiver Location': 'Area 1', 'Delivery Status': 'In-Transit', 'Shipping Cost': 270}\n"
     ]
    }
   ],
   "source": [
    "for i in shipment:\n",
    "    if shipment[i][\"Delivery Date\"] != \"Null\":\n",
    "        a = pd.to_datetime(shipment[i][\"Delivery Date\"], format='%d/%m/%Y')\n",
    "        b = pd.to_datetime(shipment[i][\"Start Date\"], format='%d/%m/%Y')\n",
    "        if (a - b).days > 15:\n",
    "            print(shipment[i])\n",
    "    else:\n",
    "        print(shipment[i])"
   ]
  },
  {
   "cell_type": "code",
   "execution_count": null,
   "id": "48966ab0",
   "metadata": {},
   "outputs": [],
   "source": []
  },
  {
   "cell_type": "markdown",
   "id": "72167104",
   "metadata": {},
   "source": [
    "**Q9. Write a function find_all_routes to display all possible routes from senders location to receivers location given in the dictionary for each shipment.**"
   ]
  },
  {
   "cell_type": "code",
   "execution_count": 14,
   "id": "704748fd",
   "metadata": {},
   "outputs": [],
   "source": [
    "def find_all_paths(matrix, start,end, visited,path):\n",
    "    \n",
    "    visited[start]=True     #  start and end are node points we check  and  path  initially is empty list\n",
    "                            # visited[start]=True  means  the path  has been  visited  by the node\n",
    "                           #Here if visited[i]=False means the path has  not  been  visited   by  the node  \n",
    "    \n",
    "    path.append(start+1)           # we append the start node to   the path\n",
    "    if start==end:\n",
    "        print(path)\n",
    "    else:\n",
    "        for i in range(6):            #here we check  for the below two  conditions , if satisfies  we use the \n",
    "                                       #recursion  condition  to  check  the remaining paths....\n",
    "            \n",
    "            if matrix[start][i]==1  and (visited[i]==False):\n",
    "                  find_all_paths(matrix, i, end,visited, path)    \n",
    "\n",
    "    path.pop()           # we finally  clear the path  after the getting  final  path  for the next  call  by  the function\n",
    "                         #to  find remaining  paths\n",
    "    visited[start]=False\n",
    "    \n",
    "visited=[False for i in  range(6)]\n",
    "matrix=[[0,1,0,0,0,1],\n",
    "       [1,0,1,1,0,0],\n",
    "       [0,1,0,1,0,0],\n",
    "       [0,1,1,0,1,0],\n",
    "       [0,0,0,1,0,0],\n",
    "       [1,0,0,0,0,0]]\n",
    "path=[]"
   ]
  },
  {
   "cell_type": "code",
   "execution_count": 16,
   "id": "d2468b79",
   "metadata": {},
   "outputs": [
    {
     "name": "stdout",
     "output_type": "stream",
     "text": [
      "Sender Location: Area 1\n",
      "Receiver Location: Area 6\n",
      "Paths [6, 1]\n",
      "\n",
      "\n",
      "Sender Location: Area 2\n",
      "Receiver Location: Area 4\n",
      "Paths [4, 2]\n",
      "[4, 3, 2]\n",
      "\n",
      "\n",
      "Sender Location: Area 5\n",
      "Receiver Location: Area 1\n",
      "Paths [1, 2, 3, 4, 5]\n",
      "[1, 2, 4, 5]\n",
      "\n",
      "\n",
      "Sender Location: Area 1\n",
      "Receiver Location: Area 4\n",
      "Paths [4, 2, 1]\n",
      "[4, 3, 2, 1]\n",
      "\n",
      "\n",
      "Sender Location: Area 5\n",
      "Receiver Location: Area 3\n",
      "Paths [3, 2, 4, 5]\n",
      "[3, 4, 5]\n",
      "\n",
      "\n",
      "Sender Location: Area 3\n",
      "Receiver Location: Area 1\n",
      "Paths [1, 2, 3]\n",
      "[1, 2, 4, 3]\n",
      "\n",
      "\n"
     ]
    }
   ],
   "source": [
    "def show_paths(s):\n",
    "    for i in  shipment:\n",
    "        s=int(shipment[i][\"Sender Location\"][-1])\n",
    "        print('Sender Location: Area',s)\n",
    "\n",
    "        r=int(shipment[i][\"Receiver Location\"][-1])\n",
    "        print('Receiver Location: Area',r)\n",
    "        print('Paths', end=\" \")\n",
    "        \n",
    "        find_all_paths(matrix,r-1,s-1,visited,path)\n",
    "        print(\"\\n\")\n",
    "        \n",
    "        \n",
    "show_paths(shipment)"
   ]
  },
  {
   "cell_type": "code",
   "execution_count": null,
   "id": "07e656c6",
   "metadata": {},
   "outputs": [],
   "source": []
  }
 ],
 "metadata": {
  "kernelspec": {
   "display_name": "Python 3 (ipykernel)",
   "language": "python",
   "name": "python3"
  },
  "language_info": {
   "codemirror_mode": {
    "name": "ipython",
    "version": 3
   },
   "file_extension": ".py",
   "mimetype": "text/x-python",
   "name": "python",
   "nbconvert_exporter": "python",
   "pygments_lexer": "ipython3",
   "version": "3.9.7"
  }
 },
 "nbformat": 4,
 "nbformat_minor": 5
}
